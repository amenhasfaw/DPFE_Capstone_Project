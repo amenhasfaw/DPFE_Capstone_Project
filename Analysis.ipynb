{
 "cells": [
  {
   "attachments": {},
   "cell_type": "markdown",
   "metadata": {},
   "source": [
    "# Data Preprocessing and Feature Engineering Capstone Project"
   ]
  },
  {
   "attachments": {},
   "cell_type": "markdown",
   "metadata": {},
   "source": [
    "----"
   ]
  },
  {
   "attachments": {},
   "cell_type": "markdown",
   "metadata": {},
   "source": [
    "#### Assume you are a Chancellor Of Private University and you are having less results in Btech DataScience.You are hiring a DataAnalyst who can work on the raw data of students and give you useful insights.The DataAnalyst has now start the process with Data Collection, Data Cleaning, Data Encoding & Data Visualization Such that the insights given by him are useful for your university."
   ]
  },
  {
   "attachments": {},
   "cell_type": "markdown",
   "metadata": {},
   "source": [
    "---"
   ]
  },
  {
   "cell_type": "markdown",
   "metadata": {},
   "source": [
    "---"
   ]
  },
  {
   "attachments": {},
   "cell_type": "markdown",
   "metadata": {},
   "source": [
    "#### DATA COLLECTION"
   ]
  },
  {
   "attachments": {},
   "cell_type": "markdown",
   "metadata": {},
   "source": [
    "##### The dataset utilized in this analysis is a mock dataset specifically created for the purpose of illustrating the essential procedures involved in data analysis. It serves as a practical tool to showcase the various steps and methodologies that should be employed when working with an authentic dataset to extract the desired insights. While the data within this mock dataset is synthetic, the analysis techniques applied herein mirror those employed in real-world scenarios, enabling users to acquire a comprehensive understanding of the data analysis process. By utilizing this simulated dataset, users can familiarize themselves with the methodologies and gain the necessary proficiency to effectively tackle data analysis tasks using genuine datasets."
   ]
  },
  {
   "cell_type": "code",
   "execution_count": 1,
   "metadata": {},
   "outputs": [],
   "source": [
    "import pandas as pd"
   ]
  },
  {
   "cell_type": "code",
   "execution_count": 6,
   "metadata": {},
   "outputs": [
    {
     "data": {
      "text/html": [
       "<div>\n",
       "<style scoped>\n",
       "    .dataframe tbody tr th:only-of-type {\n",
       "        vertical-align: middle;\n",
       "    }\n",
       "\n",
       "    .dataframe tbody tr th {\n",
       "        vertical-align: top;\n",
       "    }\n",
       "\n",
       "    .dataframe thead th {\n",
       "        text-align: right;\n",
       "    }\n",
       "</style>\n",
       "<table border=\"1\" class=\"dataframe\">\n",
       "  <thead>\n",
       "    <tr style=\"text-align: right;\">\n",
       "      <th></th>\n",
       "      <th>Student ID</th>\n",
       "      <th>Name</th>\n",
       "      <th>Age</th>\n",
       "      <th>Gender</th>\n",
       "      <th>Attendance (%)</th>\n",
       "      <th>Midterm Score</th>\n",
       "      <th>Project Score</th>\n",
       "      <th>Final Exam Score</th>\n",
       "      <th>Overall Score</th>\n",
       "      <th>Scholarship</th>\n",
       "      <th>Study Material</th>\n",
       "      <th>Programming Language</th>\n",
       "    </tr>\n",
       "  </thead>\n",
       "  <tbody>\n",
       "    <tr>\n",
       "      <th>0</th>\n",
       "      <td>1</td>\n",
       "      <td>Rajesh</td>\n",
       "      <td>20.0</td>\n",
       "      <td>Male</td>\n",
       "      <td>95.0</td>\n",
       "      <td>85</td>\n",
       "      <td>90.0</td>\n",
       "      <td>88.0</td>\n",
       "      <td>89.50</td>\n",
       "      <td>Yes</td>\n",
       "      <td>Yes</td>\n",
       "      <td>Python</td>\n",
       "    </tr>\n",
       "    <tr>\n",
       "      <th>1</th>\n",
       "      <td>2</td>\n",
       "      <td>Priya</td>\n",
       "      <td>21.0</td>\n",
       "      <td>Female</td>\n",
       "      <td>92.0</td>\n",
       "      <td>78</td>\n",
       "      <td>85.0</td>\n",
       "      <td>90.0</td>\n",
       "      <td>84.75</td>\n",
       "      <td>No</td>\n",
       "      <td>Yes</td>\n",
       "      <td>R</td>\n",
       "    </tr>\n",
       "    <tr>\n",
       "      <th>2</th>\n",
       "      <td>3</td>\n",
       "      <td>Arjun</td>\n",
       "      <td>19.0</td>\n",
       "      <td>Male</td>\n",
       "      <td>88.0</td>\n",
       "      <td>80</td>\n",
       "      <td>82.0</td>\n",
       "      <td>85.0</td>\n",
       "      <td>83.75</td>\n",
       "      <td>Yes</td>\n",
       "      <td>No</td>\n",
       "      <td>Python</td>\n",
       "    </tr>\n",
       "    <tr>\n",
       "      <th>3</th>\n",
       "      <td>4</td>\n",
       "      <td>Aarav</td>\n",
       "      <td>20.0</td>\n",
       "      <td>Male</td>\n",
       "      <td>90.0</td>\n",
       "      <td>85</td>\n",
       "      <td>NaN</td>\n",
       "      <td>88.0</td>\n",
       "      <td>89.50</td>\n",
       "      <td>Yes</td>\n",
       "      <td>Yes</td>\n",
       "      <td>Python</td>\n",
       "    </tr>\n",
       "    <tr>\n",
       "      <th>4</th>\n",
       "      <td>5</td>\n",
       "      <td>Sameer</td>\n",
       "      <td>20.0</td>\n",
       "      <td>Male</td>\n",
       "      <td>94.0</td>\n",
       "      <td>75</td>\n",
       "      <td>80.0</td>\n",
       "      <td>82.0</td>\n",
       "      <td>80.25</td>\n",
       "      <td>No</td>\n",
       "      <td>No</td>\n",
       "      <td>R</td>\n",
       "    </tr>\n",
       "    <tr>\n",
       "      <th>5</th>\n",
       "      <td>6</td>\n",
       "      <td>Ishika</td>\n",
       "      <td>21.0</td>\n",
       "      <td>Female</td>\n",
       "      <td>92.0</td>\n",
       "      <td>80</td>\n",
       "      <td>85.0</td>\n",
       "      <td>NaN</td>\n",
       "      <td>84.75</td>\n",
       "      <td>No</td>\n",
       "      <td>Yes</td>\n",
       "      <td>R</td>\n",
       "    </tr>\n",
       "    <tr>\n",
       "      <th>6</th>\n",
       "      <td>7</td>\n",
       "      <td>Advait</td>\n",
       "      <td>19.0</td>\n",
       "      <td>Male</td>\n",
       "      <td>NaN</td>\n",
       "      <td>78</td>\n",
       "      <td>82.0</td>\n",
       "      <td>85.0</td>\n",
       "      <td>83.75</td>\n",
       "      <td>Yes</td>\n",
       "      <td>No</td>\n",
       "      <td>Python</td>\n",
       "    </tr>\n",
       "    <tr>\n",
       "      <th>7</th>\n",
       "      <td>8</td>\n",
       "      <td>Nivedita</td>\n",
       "      <td>20.0</td>\n",
       "      <td>Female</td>\n",
       "      <td>90.0</td>\n",
       "      <td>90</td>\n",
       "      <td>92.0</td>\n",
       "      <td>95.0</td>\n",
       "      <td>92.25</td>\n",
       "      <td>Yes</td>\n",
       "      <td>Yes</td>\n",
       "      <td>Python</td>\n",
       "    </tr>\n",
       "    <tr>\n",
       "      <th>8</th>\n",
       "      <td>9</td>\n",
       "      <td>Akash</td>\n",
       "      <td>22.0</td>\n",
       "      <td>Male</td>\n",
       "      <td>85.0</td>\n",
       "      <td>75</td>\n",
       "      <td>78.0</td>\n",
       "      <td>80.0</td>\n",
       "      <td>77.00</td>\n",
       "      <td>No</td>\n",
       "      <td>No</td>\n",
       "      <td>Python</td>\n",
       "    </tr>\n",
       "    <tr>\n",
       "      <th>9</th>\n",
       "      <td>10</td>\n",
       "      <td>Ishita</td>\n",
       "      <td>21.0</td>\n",
       "      <td>Female</td>\n",
       "      <td>92.0</td>\n",
       "      <td>88</td>\n",
       "      <td>85.0</td>\n",
       "      <td>88.0</td>\n",
       "      <td>87.25</td>\n",
       "      <td>No</td>\n",
       "      <td>Yes</td>\n",
       "      <td>R</td>\n",
       "    </tr>\n",
       "  </tbody>\n",
       "</table>\n",
       "</div>"
      ],
      "text/plain": [
       "   Student ID      Name   Age  Gender  Attendance (%)  Midterm Score  \\\n",
       "0           1    Rajesh  20.0    Male            95.0             85   \n",
       "1           2     Priya  21.0  Female            92.0             78   \n",
       "2           3     Arjun  19.0    Male            88.0             80   \n",
       "3           4     Aarav  20.0    Male            90.0             85   \n",
       "4           5    Sameer  20.0    Male            94.0             75   \n",
       "5           6    Ishika  21.0  Female            92.0             80   \n",
       "6           7    Advait  19.0    Male             NaN             78   \n",
       "7           8  Nivedita  20.0  Female            90.0             90   \n",
       "8           9     Akash  22.0    Male            85.0             75   \n",
       "9          10    Ishita  21.0  Female            92.0             88   \n",
       "\n",
       "   Project Score  Final Exam Score  Overall Score Scholarship Study Material  \\\n",
       "0           90.0              88.0          89.50         Yes            Yes   \n",
       "1           85.0              90.0          84.75          No            Yes   \n",
       "2           82.0              85.0          83.75         Yes             No   \n",
       "3            NaN              88.0          89.50         Yes            Yes   \n",
       "4           80.0              82.0          80.25          No             No   \n",
       "5           85.0               NaN          84.75          No            Yes   \n",
       "6           82.0              85.0          83.75         Yes             No   \n",
       "7           92.0              95.0          92.25         Yes            Yes   \n",
       "8           78.0              80.0          77.00          No             No   \n",
       "9           85.0              88.0          87.25          No            Yes   \n",
       "\n",
       "  Programming Language  \n",
       "0               Python  \n",
       "1                    R  \n",
       "2               Python  \n",
       "3               Python  \n",
       "4                    R  \n",
       "5                    R  \n",
       "6               Python  \n",
       "7               Python  \n",
       "8               Python  \n",
       "9                    R  "
      ]
     },
     "execution_count": 6,
     "metadata": {},
     "output_type": "execute_result"
    }
   ],
   "source": [
    "# Load the dataset\n",
    "df = pd.read_excel('DPFE Capstone Project Dataset.xlsx')\n",
    "df.head(10)"
   ]
  },
  {
   "attachments": {},
   "cell_type": "markdown",
   "metadata": {},
   "source": [
    "---"
   ]
  },
  {
   "attachments": {},
   "cell_type": "markdown",
   "metadata": {},
   "source": [
    "#### DATA CLEANING"
   ]
  },
  {
   "attachments": {},
   "cell_type": "markdown",
   "metadata": {},
   "source": [
    "##### Data cleaning is necessary to ensure the accuracy, consistency, and reliability of the data by identifying and rectifying errors, inconsistencies, and missing values, thus enabling valid and trustworthy analysis and decision-making."
   ]
  },
  {
   "cell_type": "code",
   "execution_count": 8,
   "metadata": {},
   "outputs": [
    {
     "data": {
      "text/plain": [
       "Student ID              0\n",
       "Name                    0\n",
       "Age                     2\n",
       "Gender                  1\n",
       "Attendance (%)          1\n",
       "Midterm Score           0\n",
       "Project Score           1\n",
       "Final Exam Score        1\n",
       "Overall Score           1\n",
       "Scholarship             1\n",
       "Study Material          1\n",
       "Programming Language    1\n",
       "dtype: int64"
      ]
     },
     "execution_count": 8,
     "metadata": {},
     "output_type": "execute_result"
    }
   ],
   "source": [
    "# Check for missing values\n",
    "df.isnull().sum()"
   ]
  },
  {
   "attachments": {},
   "cell_type": "markdown",
   "metadata": {},
   "source": [
    "##### The missing values in the dataset have been filled using appropriate strategies to preserve the integrity of the data analysis. The mean strategy was employed for numerical variables like 'Project Score,' 'Final Exam Score,' and 'Overall Score' to retain the overall distribution of the data. The median strategy was utilized for the 'Attendance (%)' variable, ensuring the replacement value is not affected by outliers. For categorical variables such as 'Age,' 'Study Material,' 'Scholarship,' 'Gender,' and 'Programming Language,' the mode strategy was applied to impute the most frequent value, maintaining the data's dominant characteristics."
   ]
  },
  {
   "cell_type": "code",
   "execution_count": 9,
   "metadata": {},
   "outputs": [],
   "source": [
    "# Replace missing values with appropriate strategies\n",
    "df['Project Score'].fillna(df['Project Score'].mean(), inplace=True)\n",
    "df['Final Exam Score'].fillna(df['Final Exam Score'].mean(), inplace=True)\n",
    "df['Attendance (%)'].fillna(df['Attendance (%)'].median(), inplace=True)\n",
    "df['Overall Score'].fillna(df['Overall Score'].mean(), inplace=True)\n",
    "df['Age'].fillna(df['Age'].mode()[0], inplace=True)\n",
    "df['Study Material'].fillna(df['Study Material'].mode()[0], inplace=True)\n",
    "df['Scholarship'].fillna(df['Scholarship'].mode()[0], inplace=True)\n",
    "df['Gender'].fillna(df['Gender'].mode()[0], inplace=True)\n",
    "df['Programming Language'].fillna(df['Programming Language'].mode()[0], inplace=True)"
   ]
  },
  {
   "cell_type": "code",
   "execution_count": 10,
   "metadata": {},
   "outputs": [
    {
     "data": {
      "text/plain": [
       "Student ID              0\n",
       "Name                    0\n",
       "Age                     0\n",
       "Gender                  0\n",
       "Attendance (%)          0\n",
       "Midterm Score           0\n",
       "Project Score           0\n",
       "Final Exam Score        0\n",
       "Overall Score           0\n",
       "Scholarship             0\n",
       "Study Material          0\n",
       "Programming Language    0\n",
       "dtype: int64"
      ]
     },
     "execution_count": 10,
     "metadata": {},
     "output_type": "execute_result"
    }
   ],
   "source": [
    "# Check for missing values\n",
    "df.isnull().sum()"
   ]
  },
  {
   "cell_type": "code",
   "execution_count": 13,
   "metadata": {},
   "outputs": [
    {
     "data": {
      "text/plain": [
       "0"
      ]
     },
     "execution_count": 13,
     "metadata": {},
     "output_type": "execute_result"
    }
   ],
   "source": [
    "#Checking for duplicates\n",
    "df.duplicated().sum()"
   ]
  },
  {
   "cell_type": "code",
   "execution_count": 14,
   "metadata": {},
   "outputs": [
    {
     "data": {
      "text/html": [
       "<div>\n",
       "<style scoped>\n",
       "    .dataframe tbody tr th:only-of-type {\n",
       "        vertical-align: middle;\n",
       "    }\n",
       "\n",
       "    .dataframe tbody tr th {\n",
       "        vertical-align: top;\n",
       "    }\n",
       "\n",
       "    .dataframe thead th {\n",
       "        text-align: right;\n",
       "    }\n",
       "</style>\n",
       "<table border=\"1\" class=\"dataframe\">\n",
       "  <thead>\n",
       "    <tr style=\"text-align: right;\">\n",
       "      <th></th>\n",
       "      <th>Midterm Score</th>\n",
       "      <th>Project Score</th>\n",
       "      <th>Final Exam Score</th>\n",
       "      <th>Overall Score</th>\n",
       "    </tr>\n",
       "  </thead>\n",
       "  <tbody>\n",
       "    <tr>\n",
       "      <th>0</th>\n",
       "      <td>0.502431</td>\n",
       "      <td>0.998983</td>\n",
       "      <td>0.323062</td>\n",
       "      <td>0.931244</td>\n",
       "    </tr>\n",
       "    <tr>\n",
       "      <th>1</th>\n",
       "      <td>0.803289</td>\n",
       "      <td>0.081477</td>\n",
       "      <td>0.797925</td>\n",
       "      <td>0.112578</td>\n",
       "    </tr>\n",
       "    <tr>\n",
       "      <th>2</th>\n",
       "      <td>0.430226</td>\n",
       "      <td>0.729754</td>\n",
       "      <td>0.389232</td>\n",
       "      <td>0.332330</td>\n",
       "    </tr>\n",
       "    <tr>\n",
       "      <th>3</th>\n",
       "      <td>0.502431</td>\n",
       "      <td>0.000000</td>\n",
       "      <td>0.323062</td>\n",
       "      <td>0.931244</td>\n",
       "    </tr>\n",
       "    <tr>\n",
       "      <th>4</th>\n",
       "      <td>1.362883</td>\n",
       "      <td>1.161938</td>\n",
       "      <td>1.101526</td>\n",
       "      <td>1.101461</td>\n",
       "    </tr>\n",
       "    <tr>\n",
       "      <th>...</th>\n",
       "      <td>...</td>\n",
       "      <td>...</td>\n",
       "      <td>...</td>\n",
       "      <td>...</td>\n",
       "    </tr>\n",
       "    <tr>\n",
       "      <th>57</th>\n",
       "      <td>1.435088</td>\n",
       "      <td>1.431167</td>\n",
       "      <td>1.985082</td>\n",
       "      <td>1.535561</td>\n",
       "    </tr>\n",
       "    <tr>\n",
       "      <th>58</th>\n",
       "      <td>1.362883</td>\n",
       "      <td>1.594122</td>\n",
       "      <td>1.576389</td>\n",
       "      <td>1.815655</td>\n",
       "    </tr>\n",
       "    <tr>\n",
       "      <th>59</th>\n",
       "      <td>1.062026</td>\n",
       "      <td>0.081477</td>\n",
       "      <td>0.323062</td>\n",
       "      <td>0.436802</td>\n",
       "    </tr>\n",
       "    <tr>\n",
       "      <th>60</th>\n",
       "      <td>0.502431</td>\n",
       "      <td>0.998983</td>\n",
       "      <td>0.323062</td>\n",
       "      <td>0.931244</td>\n",
       "    </tr>\n",
       "    <tr>\n",
       "      <th>61</th>\n",
       "      <td>0.803289</td>\n",
       "      <td>0.081477</td>\n",
       "      <td>0.797925</td>\n",
       "      <td>0.112578</td>\n",
       "    </tr>\n",
       "  </tbody>\n",
       "</table>\n",
       "<p>62 rows × 4 columns</p>\n",
       "</div>"
      ],
      "text/plain": [
       "    Midterm Score  Project Score  Final Exam Score  Overall Score\n",
       "0        0.502431       0.998983          0.323062       0.931244\n",
       "1        0.803289       0.081477          0.797925       0.112578\n",
       "2        0.430226       0.729754          0.389232       0.332330\n",
       "3        0.502431       0.000000          0.323062       0.931244\n",
       "4        1.362883       1.161938          1.101526       1.101461\n",
       "..            ...            ...               ...            ...\n",
       "57       1.435088       1.431167          1.985082       1.535561\n",
       "58       1.362883       1.594122          1.576389       1.815655\n",
       "59       1.062026       0.081477          0.323062       0.436802\n",
       "60       0.502431       0.998983          0.323062       0.931244\n",
       "61       0.803289       0.081477          0.797925       0.112578\n",
       "\n",
       "[62 rows x 4 columns]"
      ]
     },
     "execution_count": 14,
     "metadata": {},
     "output_type": "execute_result"
    }
   ],
   "source": [
    "import numpy as np\n",
    "\n",
    "# Identify and handle outliers using z-score\n",
    "z_scores = np.abs((df[['Midterm Score', 'Project Score', 'Final Exam Score', 'Overall Score']] - df[['Midterm Score', 'Project Score', 'Final Exam Score', 'Overall Score']].mean()) / df[['Midterm Score', 'Project Score', 'Final Exam Score', 'Overall Score']].std())\n",
    "z_scores"
   ]
  },
  {
   "cell_type": "code",
   "execution_count": 15,
   "metadata": {},
   "outputs": [],
   "source": [
    "# Removing values with more than 3 z-score \n",
    "df = df[(z_scores < 3).all(axis=1)]"
   ]
  },
  {
   "cell_type": "code",
   "execution_count": null,
   "metadata": {},
   "outputs": [],
   "source": [
    "# Saving the cleaned dataset\n",
    "df.to_csv('cleaned_dataset.csv', index=False)"
   ]
  },
  {
   "cell_type": "markdown",
   "metadata": {},
   "source": [
    "---"
   ]
  },
  {
   "attachments": {},
   "cell_type": "markdown",
   "metadata": {},
   "source": [
    "#### DATA ENCODING"
   ]
  },
  {
   "cell_type": "markdown",
   "metadata": {},
   "source": [
    "---"
   ]
  },
  {
   "attachments": {},
   "cell_type": "markdown",
   "metadata": {},
   "source": [
    "#### DATA VISUALIZATION"
   ]
  },
  {
   "cell_type": "markdown",
   "metadata": {},
   "source": [
    "---"
   ]
  },
  {
   "attachments": {},
   "cell_type": "markdown",
   "metadata": {},
   "source": [
    "### - INSIGHT -"
   ]
  }
 ],
 "metadata": {
  "kernelspec": {
   "display_name": "ML",
   "language": "python",
   "name": "python3"
  },
  "language_info": {
   "codemirror_mode": {
    "name": "ipython",
    "version": 3
   },
   "file_extension": ".py",
   "mimetype": "text/x-python",
   "name": "python",
   "nbconvert_exporter": "python",
   "pygments_lexer": "ipython3",
   "version": "3.9.16"
  },
  "orig_nbformat": 4
 },
 "nbformat": 4,
 "nbformat_minor": 2
}
